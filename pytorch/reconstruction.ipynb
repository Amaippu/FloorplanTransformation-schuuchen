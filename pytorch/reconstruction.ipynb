{
 "cells": [
  {
   "cell_type": "code",
   "execution_count": 31,
   "metadata": {},
   "outputs": [],
   "source": [
    "import os\n",
    "import cv2\n",
    "from matplotlib import pyplot as plt\n",
    "%matplotlib inline"
   ]
  },
  {
   "cell_type": "code",
   "execution_count": 32,
   "metadata": {},
   "outputs": [],
   "source": [
    "def draw(group, name):\n",
    "    \n",
    "    plt.figure(figsize=(15, 5))\n",
    "    \n",
    "    # original image\n",
    "    plt.subplot(131)\n",
    "    plt.title('floorplan')\n",
    "    img_path = './test_fuku_300epo_batch4/%s_image.png' % (group, name)\n",
    "    img = cv2.imread(img_path)[:, :, ::-1]\n",
    "    plt.imshow(img)\n",
    "    \n",
    "    # result lines\n",
    "    plt.subplot(132)\n",
    "    plt.title('result lines')\n",
    "    img_path = './test_tr/test%s/floorplan/%s_result_line.png' % (group, name)\n",
    "    img = cv2.imread(img_path)[:, :, ::-1]\n",
    "    plt.imshow(img)\n",
    "    \n",
    "    # reconstruction\n",
    "    plt.subplot(133)\n",
    "    plt.title('reconstruction')\n",
    "    img_path = './test_tr_hb/test%s/%s_output.png' % (group, name)\n",
    "    img = cv2.imread(img_path)[:, :, ::-1]\n",
    "    plt.imshow(img)\n",
    "    \n",
    "    plt.show()"
   ]
  },
  {
   "cell_type": "code",
   "execution_count": null,
   "metadata": {},
   "outputs": [],
   "source": []
  }
 ],
 "metadata": {
  "kernelspec": {
   "display_name": "=base",
   "language": "python",
   "name": "base"
  },
  "language_info": {
   "codemirror_mode": {
    "name": "ipython",
    "version": 3
   },
   "file_extension": ".py",
   "mimetype": "text/x-python",
   "name": "python",
   "nbconvert_exporter": "python",
   "pygments_lexer": "ipython3",
   "version": "3.7.3"
  }
 },
 "nbformat": 4,
 "nbformat_minor": 2
}
